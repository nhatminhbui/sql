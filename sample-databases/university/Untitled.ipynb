{
 "cells": [
  {
   "cell_type": "code",
   "execution_count": 3,
   "id": "f61f6934",
   "metadata": {},
   "outputs": [],
   "source": [
    "from faker import Faker\n",
    "import random"
   ]
  },
  {
   "cell_type": "code",
   "execution_count": 14,
   "id": "b2cf59e6",
   "metadata": {},
   "outputs": [
    {
     "name": "stdout",
     "output_type": "stream",
     "text": [
      "INSERT INTO students VALUES (321LW43263, Cassandra, Herrera, F, 1972-09-06, 573 Mark Stream Suite 325, Harmonburgh, 2040812105961, LW);\n",
      "INSERT INTO students VALUES (318LW36115, Reginald, Herman, M, 1979-04-06, 43914 Ayers Corners Apt. 478, Port Sharonside, 5045653641910, LW);\n",
      "INSERT INTO students VALUES (318ME34127, Paula, Reynolds, F, 1986-12-20, 1769 Nancy Avenue Apt. 565, Moralesfort, 9632892049833, ME);\n",
      "INSERT INTO students VALUES (317PH30434, Thomas, Sparks, M, 1982-05-04, 67944 Michael Knolls Suite 304, New Dawnchester, 5968044838376, PH);\n",
      "INSERT INTO students VALUES (318HI38916, Chad, Jones, M, 2003-07-27, 863 David Heights Suite 956, Johnville, 4337906635781, HI);\n",
      "INSERT INTO students VALUES (320LW56420, Daniel, Bernard, M, 1987-03-01, 445 Hopkins Vista, Baldwinshire, 0248500315601, LW);\n",
      "INSERT INTO students VALUES (318DE52541, Bryan, Lawrence, M, 1998-01-01, 000 Lisa Crest Apt. 977, West Antonio, 7391041328642, DE);\n",
      "INSERT INTO students VALUES (322PH99047, Roberto, Cortez, M, 1972-02-13, 7239 Mitchell Lock, Valeriechester, 5654682919602, PH);\n",
      "INSERT INTO students VALUES (320ME00826, Theresa, Vargas, F, 1972-09-01, 64970 Daniel Lock Suite 607, Lake Curtis, 3047120653552, ME);\n",
      "INSERT INTO students VALUES (320LA95470, Brian, Stewart, M, 1984-03-11, 08335 Abigail Corners, Millerberg, 0196433530093, LA);\n"
     ]
    }
   ],
   "source": [
    "n = 10\n",
    "fake = Faker()\n",
    "\n",
    "for i in range(n):\n",
    "    gender = random.choice(['M', 'F'])\n",
    "    major = random.choice(['AA', 'BI', 'ME', 'CS', 'MA', 'MD',\n",
    "                          'PS', 'EC', 'BU', 'PH', 'DE', 'LA',\n",
    "                          'HI', 'MU', 'PE', 'CU', 'PO', 'LW', 'RS'])\n",
    "    \n",
    "    if gender == 'M':\n",
    "        first_name = fake.first_name_male()\n",
    "        last_name = fake.last_name_male()\n",
    "    else:\n",
    "        first_name = fake.first_name_female()\n",
    "        last_name = fake.last_name_female()\n",
    "    \n",
    "    birthdate = fake.date()\n",
    "    while int(birthdate[:4]) > 2005:\n",
    "        birthdate = fake.date()\n",
    "        \n",
    "    street_address = fake.street_address()\n",
    "    city = fake.city()\n",
    "    phonenumber = fake.msisdn()\n",
    "    \n",
    "    rand_num = str(random.randint(100, 99999))\n",
    "    studid = str(random.randint(2015, 2022) - 1700) + major + '0'*(5-len(rand_num)) + rand_num\n",
    "    \n",
    "    print('INSERT INTO students VALUES ({}, {}, {}, {}, {}, {}, {}, {}, {});'.format(studid, first_name, last_name, gender, birthdate, street_address, city, phonenumber, major))"
   ]
  },
  {
   "cell_type": "code",
   "execution_count": 10,
   "id": "fc187d83",
   "metadata": {},
   "outputs": [
    {
     "data": {
      "text/plain": [
       "'2021-06-26'"
      ]
     },
     "execution_count": 10,
     "metadata": {},
     "output_type": "execute_result"
    }
   ],
   "source": []
  },
  {
   "cell_type": "code",
   "execution_count": null,
   "id": "748a7a72",
   "metadata": {},
   "outputs": [],
   "source": []
  }
 ],
 "metadata": {
  "kernelspec": {
   "display_name": "Python 3",
   "language": "python",
   "name": "python3"
  },
  "language_info": {
   "codemirror_mode": {
    "name": "ipython",
    "version": 3
   },
   "file_extension": ".py",
   "mimetype": "text/x-python",
   "name": "python",
   "nbconvert_exporter": "python",
   "pygments_lexer": "ipython3",
   "version": "3.8.10"
  }
 },
 "nbformat": 4,
 "nbformat_minor": 5
}
